{
  "cells": [
    {
      "cell_type": "markdown",
      "metadata": {
        "id": "view-in-github",
        "colab_type": "text"
      },
      "source": [
        "<a href=\"https://colab.research.google.com/github/thinkingkoala/Chrome_GPT_extension/blob/main/fooocus_colab_AITwin.ipynb\" target=\"_parent\"><img src=\"https://colab.research.google.com/assets/colab-badge.svg\" alt=\"Open In Colab\"/></a>"
      ]
    },
    {
      "cell_type": "code",
      "execution_count": null,
      "metadata": {
        "id": "VjYy0F2gZIPR"
      },
      "outputs": [],
      "source": [
        "!pip install pygit2==1.12.2\n",
        "%cd /content\n",
        "!git clone https://github.com/lllyasviel/Fooocus.git\n",
        "%cd /content/Fooocus\n"
      ]
    },
    {
      "cell_type": "code",
      "execution_count": null,
      "metadata": {
        "id": "ovvgs-VNKob6"
      },
      "outputs": [],
      "source": [
        "from google.colab import drive\n",
        "drive.mount('/content/drive')"
      ]
    },
    {
      "cell_type": "code",
      "execution_count": null,
      "metadata": {
        "id": "TwJxfthGVDEL"
      },
      "outputs": [],
      "source": [
        "!cp '/content/drive/MyDrive/LoRas/nadia-08-03-v2.safetensors' ./models/loras/nadia-08-03-v2.safetensors"
      ]
    },
    {
      "cell_type": "code",
      "execution_count": null,
      "metadata": {
        "id": "hTaRGn2JVFR2"
      },
      "outputs": [],
      "source": [
        "!cp '/content/drive/MyDrive/LoRas/nadia-08-03-v2_emb.safetensors' ./models/embeddings/nadia-08-03-v2_emb.safetensors"
      ]
    },
    {
      "cell_type": "code",
      "execution_count": null,
      "metadata": {
        "id": "ECrf8hbfx2wU"
      },
      "outputs": [],
      "source": [
        "!wget -c \"https://civitai.com/api/download/models/348913?type=Model&format=SafeTensor&size=full&fp=fp16\" -O ./models/checkpoints/JuggernautXLV9.safetensors"
      ]
    },
    {
      "cell_type": "code",
      "execution_count": null,
      "metadata": {
        "id": "D-Z0OJMlTL_R"
      },
      "outputs": [],
      "source": [
        "!wget -c \"https://civitai.com/api/download/models/128461?type=Model&format=SafeTensor\" -O ./models/loras/perfecteyes.safetensors"
      ]
    },
    {
      "cell_type": "code",
      "execution_count": null,
      "metadata": {
        "id": "q41ZGzEyKkDc"
      },
      "outputs": [],
      "source": [
        "!python entry_with_update.py --share --always-high-vram"
      ]
    }
  ],
  "metadata": {
    "accelerator": "GPU",
    "colab": {
      "gpuType": "T4",
      "provenance": [],
      "include_colab_link": true
    },
    "kernelspec": {
      "display_name": "Python 3",
      "name": "python3"
    },
    "language_info": {
      "name": "python"
    }
  },
  "nbformat": 4,
  "nbformat_minor": 0
}